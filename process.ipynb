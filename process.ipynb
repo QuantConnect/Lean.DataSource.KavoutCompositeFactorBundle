{
 "cells": [
  {
   "cell_type": "code",
   "execution_count": null,
   "id": "9bcc65b2",
   "metadata": {},
   "outputs": [],
   "source": [
    "import json\n",
    "import os\n",
    "import pandas as pd\n",
    "import requests\n",
    "import time\n",
    "\n",
    "from datetime import datetime\n",
    "from pathlib import Path\n",
    "from QuantConnect import Globals\n",
    "from QuantConnect.Configuration import Config\n",
    "from QuantConnect.Securities import SecurityDefinitionSymbolResolver"
   ]
  },
  {
   "cell_type": "markdown",
   "id": "132b6f64",
   "metadata": {},
   "source": [
    "### Required environment variables:\n",
    " * __`QC_DATAFLEET_DEPLOYMENT_DATE`__ (date formatted as \"%Y%m%d\")\n",
    " * __`KAVOUT_API_KEY`__\n",
    " * __`KAVOUT_API_HOST`__ (e.g. `google.com:443`)"
   ]
  },
  {
   "cell_type": "code",
   "execution_count": null,
   "id": "38ba1002",
   "metadata": {},
   "outputs": [],
   "source": [
    "deployment_date = datetime.strptime(os.environ.get('QC_DATAFLEET_DEPLOYMENT_DATE', f'{datetime.utcnow():%Y%m%d}'), '%Y%m%d')\n",
    "save_raw_output = os.environ.get('KAVOUT_SAVE_RAW_OUTPUT', False)\n",
    "\n",
    "api_key = os.environ.get('KAVOUT_API_KEY', '')\n",
    "api_host = os.environ.get('KAVOUT_API_HOST', '')\n",
    "\n",
    "output_directory = Path(Config.Get('temp-output-directory', '/temp-output-directory'))\n",
    "existing_data_directory = Path(Config.Get('processed-data-directory', Globals.DataFolder))\n",
    "\n",
    "output_file_directory = output_directory / 'alternative' / 'kavout' / 'composite_factor_bundles'\n",
    "existing_data_file_directory = existing_data_directory / 'alternative' / 'kavout' / 'composite_factor_bundles'\n",
    "\n",
    "output_file_directory.mkdir(parents=True, exist_ok=True)\n",
    "\n",
    "symbol_resolver = SecurityDefinitionSymbolResolver()"
   ]
  },
  {
   "cell_type": "code",
   "execution_count": null,
   "id": "5129c181",
   "metadata": {},
   "outputs": [],
   "source": [
    "def GetData(deployment_date):\n",
    "    response = requests.get(f'https://{api_host}/v2/usa/stock/kavout_quantconnect_factors', verify=False, params={\n",
    "        'token': api_key,\n",
    "        'trade_date__eq': f'{deployment_date:%Y-%m-%d}',\n",
    "        'size': 10000 # Maximum number of results that can be returned per call, which is more than the size of the universe.\n",
    "    })\n",
    "\n",
    "    if response.status_code != 200:\n",
    "        raise Exception(f'Failed to download data from host: {api_host} - received {response.status_code} error. Contents: {response.text}')\n",
    "\n",
    "    json_response = response.json()\n",
    "\n",
    "    if save_raw_output:\n",
    "        with open(f\"{deployment_date:%Y-%m-%d}_response.json\", 'w') as output_file:\n",
    "            output_file.write(str(json_response))\n",
    "    \n",
    "    return json_response"
   ]
  },
  {
   "cell_type": "code",
   "execution_count": null,
   "id": "c9cce363",
   "metadata": {},
   "outputs": [],
   "source": [
    "def SaveData(deployment_date, json_response):\n",
    "    if len(json_response) != 0:\n",
    "        output_json = []\n",
    "\n",
    "        for entry in json_response:\n",
    "            isin = entry['isin_code']\n",
    "            lean_symbol = symbol_resolver.ISIN(isin, deployment_date)\n",
    "            # If we can match ISIN we use the ticker since this dataset is not point-in-time\n",
    "            entry['ticker'] = lean_symbol.Value if lean_symbol else entry['symbol']\n",
    "            output_json.append(entry)\n",
    "\n",
    "        for entry in output_json:\n",
    "            filename = f'{entry[\"ticker\"].lower()}.csv'\n",
    "\n",
    "            output_file_path = output_file_directory / filename\n",
    "            existing_data_file_path = existing_data_directory / filename\n",
    "\n",
    "            if not existing_data_file_path.exists():\n",
    "                existing_data_file_path = output_file_path\n",
    "\n",
    "            output_data = {}\n",
    "\n",
    "            if existing_data_file_path.exists():\n",
    "                with open(existing_data_file_path, 'r') as existing_data_file:\n",
    "                    existing_lines = existing_data_file.read().strip('\\n').split('\\n')\n",
    "                    output_data = {line.split(',')[0]: line for line in existing_lines}\n",
    "\n",
    "            deployment_date_str = f'{deployment_date:%Y%m%d}'\n",
    "            output_data[deployment_date_str] = ','.join([\n",
    "                deployment_date_str,\n",
    "                str(entry['growth']),\n",
    "                str(entry['value']),\n",
    "                str(entry['quality']),\n",
    "                str(entry['momentum']),\n",
    "                str(entry['low_volatility'])\n",
    "            ])\n",
    "\n",
    "            # Sort the lines we have and output them all to disk, making sure all data is de-duplicated by date.\n",
    "            content = '\\n'.join([i[1] for i in sorted(output_data.items())])\n",
    "\n",
    "            with open(output_file_path, 'w') as output_file:\n",
    "                print(f'Writing data for {entry[\"ticker\"]} to: {output_file_path}')\n",
    "                output_file.write(content)"
   ]
  },
  {
   "cell_type": "code",
   "execution_count": null,
   "id": "cd53c227",
   "metadata": {},
   "outputs": [],
   "source": [
    "json_response = GetData(deployment_date)\n",
    "SaveData(deployment_date, json_response)\n"
   ]
  }
 ],
 "metadata": {
  "kernelspec": {
   "display_name": "Foundation-Py-Default",
   "language": "python",
   "name": "python3"
  },
  "language_info": {
   "codemirror_mode": {
    "name": "ipython",
    "version": 3
   },
   "file_extension": ".py",
   "mimetype": "text/x-python",
   "name": "python",
   "nbconvert_exporter": "python",
   "pygments_lexer": "ipython3",
   "version": "3.8.16"
  }
 },
 "nbformat": 4,
 "nbformat_minor": 5
}